{
  "nbformat": 4,
  "nbformat_minor": 0,
  "metadata": {
    "colab": {
      "provenance": [],
      "collapsed_sections": []
    },
    "kernelspec": {
      "name": "python3",
      "display_name": "Python 3"
    },
    "language_info": {
      "name": "python"
    },
    "accelerator": "GPU"
  },
  "cells": [
    {
      "cell_type": "markdown",
      "source": [
        "## Создание и обучение пайплайна"
      ],
      "metadata": {
        "id": "q2WDXUu2RSg8"
      }
    },
    {
      "cell_type": "markdown",
      "source": [
        "Загрузим необходимые библиотеки"
      ],
      "metadata": {
        "id": "LMYtmayqP9Es"
      }
    },
    {
      "cell_type": "code",
      "source": [
        "import pandas as pd\n",
        "import dill\n",
        "import numpy as np\n",
        "from sklearn.model_selection import train_test_split\n",
        "from sklearn.base import BaseEstimator, TransformerMixin\n",
        "from sklearn.metrics import confusion_matrix, accuracy_score, classification_report\n",
        "from sklearn.metrics import roc_auc_score, roc_curve, precision_recall_curve\n",
        "from sklearn.metrics import f1_score\n",
        "from sklearn.linear_model import LogisticRegression\n",
        "\n",
        "#pipeline\n",
        "from sklearn.pipeline import Pipeline, FeatureUnion\n",
        "from sklearn.metrics import precision_score,recall_score"
      ],
      "metadata": {
        "id": "qor8FO60LMw4"
      },
      "execution_count": null,
      "outputs": []
    },
    {
      "cell_type": "markdown",
      "source": [
        "Загрузим данные"
      ],
      "metadata": {
        "id": "uWCjInyxJor6"
      }
    },
    {
      "cell_type": "code",
      "source": [
        "df = pd.read_csv(\"cardio.csv\", \";\")\n",
        "df.head(5)"
      ],
      "metadata": {
        "colab": {
          "base_uri": "https://localhost:8080/",
          "height": 263
        },
        "id": "_kTjGOJuHkig",
        "outputId": "9b55673e-67ca-4812-9c37-94e911c493dc"
      },
      "execution_count": null,
      "outputs": [
        {
          "output_type": "stream",
          "name": "stderr",
          "text": [
            "/usr/local/lib/python3.7/dist-packages/IPython/core/interactiveshell.py:2882: FutureWarning: In a future version of pandas all arguments of read_csv except for the argument 'filepath_or_buffer' will be keyword-only\n",
            "  exec(code_obj, self.user_global_ns, self.user_ns)\n"
          ]
        },
        {
          "output_type": "execute_result",
          "data": {
            "text/plain": [
              "   id    age  gender  height  weight  ap_hi  ap_lo  cholesterol  gluc  smoke  \\\n",
              "0   0  18393       2     168    62.0    110     80            1     1      0   \n",
              "1   1  20228       1     156    85.0    140     90            3     1      0   \n",
              "2   2  18857       1     165    64.0    130     70            3     1      0   \n",
              "3   3  17623       2     169    82.0    150    100            1     1      0   \n",
              "4   4  17474       1     156    56.0    100     60            1     1      0   \n",
              "\n",
              "   alco  active  cardio  \n",
              "0     0       1       0  \n",
              "1     0       1       1  \n",
              "2     0       0       1  \n",
              "3     0       1       1  \n",
              "4     0       0       0  "
            ],
            "text/html": [
              "\n",
              "  <div id=\"df-b6c26f85-1b27-4912-a8c1-2198daab0217\">\n",
              "    <div class=\"colab-df-container\">\n",
              "      <div>\n",
              "<style scoped>\n",
              "    .dataframe tbody tr th:only-of-type {\n",
              "        vertical-align: middle;\n",
              "    }\n",
              "\n",
              "    .dataframe tbody tr th {\n",
              "        vertical-align: top;\n",
              "    }\n",
              "\n",
              "    .dataframe thead th {\n",
              "        text-align: right;\n",
              "    }\n",
              "</style>\n",
              "<table border=\"1\" class=\"dataframe\">\n",
              "  <thead>\n",
              "    <tr style=\"text-align: right;\">\n",
              "      <th></th>\n",
              "      <th>id</th>\n",
              "      <th>age</th>\n",
              "      <th>gender</th>\n",
              "      <th>height</th>\n",
              "      <th>weight</th>\n",
              "      <th>ap_hi</th>\n",
              "      <th>ap_lo</th>\n",
              "      <th>cholesterol</th>\n",
              "      <th>gluc</th>\n",
              "      <th>smoke</th>\n",
              "      <th>alco</th>\n",
              "      <th>active</th>\n",
              "      <th>cardio</th>\n",
              "    </tr>\n",
              "  </thead>\n",
              "  <tbody>\n",
              "    <tr>\n",
              "      <th>0</th>\n",
              "      <td>0</td>\n",
              "      <td>18393</td>\n",
              "      <td>2</td>\n",
              "      <td>168</td>\n",
              "      <td>62.0</td>\n",
              "      <td>110</td>\n",
              "      <td>80</td>\n",
              "      <td>1</td>\n",
              "      <td>1</td>\n",
              "      <td>0</td>\n",
              "      <td>0</td>\n",
              "      <td>1</td>\n",
              "      <td>0</td>\n",
              "    </tr>\n",
              "    <tr>\n",
              "      <th>1</th>\n",
              "      <td>1</td>\n",
              "      <td>20228</td>\n",
              "      <td>1</td>\n",
              "      <td>156</td>\n",
              "      <td>85.0</td>\n",
              "      <td>140</td>\n",
              "      <td>90</td>\n",
              "      <td>3</td>\n",
              "      <td>1</td>\n",
              "      <td>0</td>\n",
              "      <td>0</td>\n",
              "      <td>1</td>\n",
              "      <td>1</td>\n",
              "    </tr>\n",
              "    <tr>\n",
              "      <th>2</th>\n",
              "      <td>2</td>\n",
              "      <td>18857</td>\n",
              "      <td>1</td>\n",
              "      <td>165</td>\n",
              "      <td>64.0</td>\n",
              "      <td>130</td>\n",
              "      <td>70</td>\n",
              "      <td>3</td>\n",
              "      <td>1</td>\n",
              "      <td>0</td>\n",
              "      <td>0</td>\n",
              "      <td>0</td>\n",
              "      <td>1</td>\n",
              "    </tr>\n",
              "    <tr>\n",
              "      <th>3</th>\n",
              "      <td>3</td>\n",
              "      <td>17623</td>\n",
              "      <td>2</td>\n",
              "      <td>169</td>\n",
              "      <td>82.0</td>\n",
              "      <td>150</td>\n",
              "      <td>100</td>\n",
              "      <td>1</td>\n",
              "      <td>1</td>\n",
              "      <td>0</td>\n",
              "      <td>0</td>\n",
              "      <td>1</td>\n",
              "      <td>1</td>\n",
              "    </tr>\n",
              "    <tr>\n",
              "      <th>4</th>\n",
              "      <td>4</td>\n",
              "      <td>17474</td>\n",
              "      <td>1</td>\n",
              "      <td>156</td>\n",
              "      <td>56.0</td>\n",
              "      <td>100</td>\n",
              "      <td>60</td>\n",
              "      <td>1</td>\n",
              "      <td>1</td>\n",
              "      <td>0</td>\n",
              "      <td>0</td>\n",
              "      <td>0</td>\n",
              "      <td>0</td>\n",
              "    </tr>\n",
              "  </tbody>\n",
              "</table>\n",
              "</div>\n",
              "      <button class=\"colab-df-convert\" onclick=\"convertToInteractive('df-b6c26f85-1b27-4912-a8c1-2198daab0217')\"\n",
              "              title=\"Convert this dataframe to an interactive table.\"\n",
              "              style=\"display:none;\">\n",
              "        \n",
              "  <svg xmlns=\"http://www.w3.org/2000/svg\" height=\"24px\"viewBox=\"0 0 24 24\"\n",
              "       width=\"24px\">\n",
              "    <path d=\"M0 0h24v24H0V0z\" fill=\"none\"/>\n",
              "    <path d=\"M18.56 5.44l.94 2.06.94-2.06 2.06-.94-2.06-.94-.94-2.06-.94 2.06-2.06.94zm-11 1L8.5 8.5l.94-2.06 2.06-.94-2.06-.94L8.5 2.5l-.94 2.06-2.06.94zm10 10l.94 2.06.94-2.06 2.06-.94-2.06-.94-.94-2.06-.94 2.06-2.06.94z\"/><path d=\"M17.41 7.96l-1.37-1.37c-.4-.4-.92-.59-1.43-.59-.52 0-1.04.2-1.43.59L10.3 9.45l-7.72 7.72c-.78.78-.78 2.05 0 2.83L4 21.41c.39.39.9.59 1.41.59.51 0 1.02-.2 1.41-.59l7.78-7.78 2.81-2.81c.8-.78.8-2.07 0-2.86zM5.41 20L4 18.59l7.72-7.72 1.47 1.35L5.41 20z\"/>\n",
              "  </svg>\n",
              "      </button>\n",
              "      \n",
              "  <style>\n",
              "    .colab-df-container {\n",
              "      display:flex;\n",
              "      flex-wrap:wrap;\n",
              "      gap: 12px;\n",
              "    }\n",
              "\n",
              "    .colab-df-convert {\n",
              "      background-color: #E8F0FE;\n",
              "      border: none;\n",
              "      border-radius: 50%;\n",
              "      cursor: pointer;\n",
              "      display: none;\n",
              "      fill: #1967D2;\n",
              "      height: 32px;\n",
              "      padding: 0 0 0 0;\n",
              "      width: 32px;\n",
              "    }\n",
              "\n",
              "    .colab-df-convert:hover {\n",
              "      background-color: #E2EBFA;\n",
              "      box-shadow: 0px 1px 2px rgba(60, 64, 67, 0.3), 0px 1px 3px 1px rgba(60, 64, 67, 0.15);\n",
              "      fill: #174EA6;\n",
              "    }\n",
              "\n",
              "    [theme=dark] .colab-df-convert {\n",
              "      background-color: #3B4455;\n",
              "      fill: #D2E3FC;\n",
              "    }\n",
              "\n",
              "    [theme=dark] .colab-df-convert:hover {\n",
              "      background-color: #434B5C;\n",
              "      box-shadow: 0px 1px 3px 1px rgba(0, 0, 0, 0.15);\n",
              "      filter: drop-shadow(0px 1px 2px rgba(0, 0, 0, 0.3));\n",
              "      fill: #FFFFFF;\n",
              "    }\n",
              "  </style>\n",
              "\n",
              "      <script>\n",
              "        const buttonEl =\n",
              "          document.querySelector('#df-b6c26f85-1b27-4912-a8c1-2198daab0217 button.colab-df-convert');\n",
              "        buttonEl.style.display =\n",
              "          google.colab.kernel.accessAllowed ? 'block' : 'none';\n",
              "\n",
              "        async function convertToInteractive(key) {\n",
              "          const element = document.querySelector('#df-b6c26f85-1b27-4912-a8c1-2198daab0217');\n",
              "          const dataTable =\n",
              "            await google.colab.kernel.invokeFunction('convertToInteractive',\n",
              "                                                     [key], {});\n",
              "          if (!dataTable) return;\n",
              "\n",
              "          const docLinkHtml = 'Like what you see? Visit the ' +\n",
              "            '<a target=\"_blank\" href=https://colab.research.google.com/notebooks/data_table.ipynb>data table notebook</a>'\n",
              "            + ' to learn more about interactive tables.';\n",
              "          element.innerHTML = '';\n",
              "          dataTable['output_type'] = 'display_data';\n",
              "          await google.colab.output.renderOutput(dataTable, element);\n",
              "          const docLink = document.createElement('div');\n",
              "          docLink.innerHTML = docLinkHtml;\n",
              "          element.appendChild(docLink);\n",
              "        }\n",
              "      </script>\n",
              "    </div>\n",
              "  </div>\n",
              "  "
            ]
          },
          "metadata": {},
          "execution_count": 20
        }
      ]
    },
    {
      "cell_type": "code",
      "source": [
        "df.shape"
      ],
      "metadata": {
        "colab": {
          "base_uri": "https://localhost:8080/"
        },
        "id": "7YjbjORWKMRU",
        "outputId": "445d7b0a-d651-4a84-ae4a-831b6d26adcd"
      },
      "execution_count": null,
      "outputs": [
        {
          "output_type": "execute_result",
          "data": {
            "text/plain": [
              "(70000, 13)"
            ]
          },
          "metadata": {},
          "execution_count": 21
        }
      ]
    },
    {
      "cell_type": "code",
      "source": [
        "df['cardio'].value_counts()"
      ],
      "metadata": {
        "colab": {
          "base_uri": "https://localhost:8080/"
        },
        "id": "3al0zsi4KonD",
        "outputId": "5c42f901-5d2f-40fb-d3dc-88f4033ca44f"
      },
      "execution_count": null,
      "outputs": [
        {
          "output_type": "execute_result",
          "data": {
            "text/plain": [
              "0    35021\n",
              "1    34979\n",
              "Name: cardio, dtype: int64"
            ]
          },
          "metadata": {},
          "execution_count": 22
        }
      ]
    },
    {
      "cell_type": "markdown",
      "source": [
        "Разделим данные на train/test и сохраним тестовую выборку на диск"
      ],
      "metadata": {
        "id": "Db-da6UlK0Cf"
      }
    },
    {
      "cell_type": "code",
      "source": [
        "X_train, X_test, y_train, y_test = train_test_split(df, df['cardio'],\n",
        "                                                    test_size=0.33, random_state=42)\n",
        "# save test\n",
        "X_test.to_csv(\"X_test_cardio.csv\", index=None)\n",
        "y_test.to_csv(\"y_test_cardio.csv\", index=None)\n",
        "\n",
        "# save train\n",
        "X_train.to_csv(\"X_train_cardio.csv\", index=None)\n",
        "y_train.to_csv(\"y_train_cardio.csv\", index=None)"
      ],
      "metadata": {
        "id": "0BT-JncNK3mJ"
      },
      "execution_count": null,
      "outputs": []
    },
    {
      "cell_type": "markdown",
      "source": [
        "Напишем пайплайн:"
      ],
      "metadata": {
        "id": "gRqKdKt2Mf1y"
      }
    },
    {
      "cell_type": "code",
      "source": [
        "class FeatureSelector(BaseEstimator, TransformerMixin):\n",
        "    def __init__(self, column):\n",
        "        self.column = column\n",
        "\n",
        "    def fit(self, X, y=None):\n",
        "        return self\n",
        "\n",
        "    def transform(self, X, y=None):\n",
        "        return X[self.column]\n",
        "    \n",
        "class NumberSelector(BaseEstimator, TransformerMixin):\n",
        "    \"\"\"\n",
        "    Transformer to select a single column from the data frame to perform additional transformations on\n",
        "    Use on numeric columns in the data\n",
        "    \"\"\"\n",
        "    def __init__(self, key):\n",
        "        self.key = key\n",
        "\n",
        "    def fit(self, X, y=None):\n",
        "        return self\n",
        "\n",
        "    def transform(self, X):\n",
        "        return X[[self.key]]"
      ],
      "metadata": {
        "id": "pJN1FcwBMkax"
      },
      "execution_count": null,
      "outputs": []
    },
    {
      "cell_type": "code",
      "source": [
        "X_train.columns"
      ],
      "metadata": {
        "colab": {
          "base_uri": "https://localhost:8080/"
        },
        "id": "P3Z3rZQeM6wb",
        "outputId": "4b3f0e15-905a-4381-97e2-9c525ebf0627"
      },
      "execution_count": null,
      "outputs": [
        {
          "output_type": "execute_result",
          "data": {
            "text/plain": [
              "Index(['id', 'age', 'gender', 'height', 'weight', 'ap_hi', 'ap_lo',\n",
              "       'cholesterol', 'gluc', 'smoke', 'alco', 'active', 'cardio'],\n",
              "      dtype='object')"
            ]
          },
          "metadata": {},
          "execution_count": 25
        }
      ]
    },
    {
      "cell_type": "code",
      "source": [
        "continuous_columns = ['age', 'gender', 'height', 'weight', 'ap_hi', 'ap_lo', 'cholesterol', 'gluc', 'smoke', 'alco', 'active']"
      ],
      "metadata": {
        "id": "M-sYVeYDM9fs"
      },
      "execution_count": null,
      "outputs": []
    },
    {
      "cell_type": "markdown",
      "source": [
        "Соберем модуль, ответственный за feature engineering"
      ],
      "metadata": {
        "id": "VTi2qj3wMxiN"
      }
    },
    {
      "cell_type": "code",
      "source": [
        "final_transformers = list()\n",
        "\n",
        "for cont_col in continuous_columns:\n",
        "    cont_transformer = Pipeline([\n",
        "                ('selector', NumberSelector(key=cont_col)),\n",
        "            ])\n",
        "    final_transformers.append((cont_col, cont_transformer))"
      ],
      "metadata": {
        "id": "2g8MaFyNM2Y8"
      },
      "execution_count": null,
      "outputs": []
    },
    {
      "cell_type": "code",
      "source": [
        "final_transformers"
      ],
      "metadata": {
        "colab": {
          "base_uri": "https://localhost:8080/"
        },
        "id": "XHnxPSasNGPL",
        "outputId": "a463d1dc-39a3-4c1f-bbc4-53515f29e4e2"
      },
      "execution_count": null,
      "outputs": [
        {
          "output_type": "execute_result",
          "data": {
            "text/plain": [
              "[('age', Pipeline(steps=[('selector', NumberSelector(key='age'))])),\n",
              " ('gender', Pipeline(steps=[('selector', NumberSelector(key='gender'))])),\n",
              " ('height', Pipeline(steps=[('selector', NumberSelector(key='height'))])),\n",
              " ('weight', Pipeline(steps=[('selector', NumberSelector(key='weight'))])),\n",
              " ('ap_hi', Pipeline(steps=[('selector', NumberSelector(key='ap_hi'))])),\n",
              " ('ap_lo', Pipeline(steps=[('selector', NumberSelector(key='ap_lo'))])),\n",
              " ('cholesterol',\n",
              "  Pipeline(steps=[('selector', NumberSelector(key='cholesterol'))])),\n",
              " ('gluc', Pipeline(steps=[('selector', NumberSelector(key='gluc'))])),\n",
              " ('smoke', Pipeline(steps=[('selector', NumberSelector(key='smoke'))])),\n",
              " ('alco', Pipeline(steps=[('selector', NumberSelector(key='alco'))])),\n",
              " ('active', Pipeline(steps=[('selector', NumberSelector(key='active'))]))]"
            ]
          },
          "metadata": {},
          "execution_count": 28
        }
      ]
    },
    {
      "cell_type": "code",
      "source": [
        "feats = FeatureUnion(final_transformers)"
      ],
      "metadata": {
        "id": "naaTd1d-NWR8"
      },
      "execution_count": null,
      "outputs": []
    },
    {
      "cell_type": "markdown",
      "source": [
        "Добавим классификатор"
      ],
      "metadata": {
        "id": "d5YDTrD4PuB8"
      }
    },
    {
      "cell_type": "code",
      "source": [
        "feats = FeatureUnion(final_transformers)\n",
        "\n",
        "pipeline = Pipeline([\n",
        "    ('features', feats),\n",
        "    ('classifier', LogisticRegression())\n",
        "])\n",
        "\n",
        "pipeline.fit(X_train, y_train)"
      ],
      "metadata": {
        "colab": {
          "base_uri": "https://localhost:8080/"
        },
        "id": "aWSJjVMz0PNi",
        "outputId": "167398b8-abd5-4c80-eb53-4dc7ea79032c"
      },
      "execution_count": null,
      "outputs": [
        {
          "output_type": "execute_result",
          "data": {
            "text/plain": [
              "Pipeline(steps=[('features',\n",
              "                 FeatureUnion(transformer_list=[('age',\n",
              "                                                 Pipeline(steps=[('selector',\n",
              "                                                                  NumberSelector(key='age'))])),\n",
              "                                                ('gender',\n",
              "                                                 Pipeline(steps=[('selector',\n",
              "                                                                  NumberSelector(key='gender'))])),\n",
              "                                                ('height',\n",
              "                                                 Pipeline(steps=[('selector',\n",
              "                                                                  NumberSelector(key='height'))])),\n",
              "                                                ('weight',\n",
              "                                                 Pipeline(steps=[('selector',\n",
              "                                                                  NumberSelector(key='weight'))])),\n",
              "                                                ('ap_hi',\n",
              "                                                 Pipe...\n",
              "                                                                  NumberSelector(key='cholesterol'))])),\n",
              "                                                ('gluc',\n",
              "                                                 Pipeline(steps=[('selector',\n",
              "                                                                  NumberSelector(key='gluc'))])),\n",
              "                                                ('smoke',\n",
              "                                                 Pipeline(steps=[('selector',\n",
              "                                                                  NumberSelector(key='smoke'))])),\n",
              "                                                ('alco',\n",
              "                                                 Pipeline(steps=[('selector',\n",
              "                                                                  NumberSelector(key='alco'))])),\n",
              "                                                ('active',\n",
              "                                                 Pipeline(steps=[('selector',\n",
              "                                                                  NumberSelector(key='active'))]))])),\n",
              "                ('classifier', LogisticRegression())])"
            ]
          },
          "metadata": {},
          "execution_count": 30
        }
      ]
    },
    {
      "cell_type": "code",
      "source": [
        "%%time\n",
        "\n",
        "pipeline.fit(X_train, y_train)"
      ],
      "metadata": {
        "colab": {
          "base_uri": "https://localhost:8080/"
        },
        "id": "xtWwhjuVPOIO",
        "outputId": "fe1f7d74-e9a7-443d-ccef-5af3838f6591"
      },
      "execution_count": null,
      "outputs": [
        {
          "output_type": "stream",
          "name": "stdout",
          "text": [
            "CPU times: user 800 ms, sys: 598 ms, total: 1.4 s\n",
            "Wall time: 753 ms\n"
          ]
        },
        {
          "output_type": "execute_result",
          "data": {
            "text/plain": [
              "Pipeline(steps=[('features',\n",
              "                 FeatureUnion(transformer_list=[('age',\n",
              "                                                 Pipeline(steps=[('selector',\n",
              "                                                                  NumberSelector(key='age'))])),\n",
              "                                                ('gender',\n",
              "                                                 Pipeline(steps=[('selector',\n",
              "                                                                  NumberSelector(key='gender'))])),\n",
              "                                                ('height',\n",
              "                                                 Pipeline(steps=[('selector',\n",
              "                                                                  NumberSelector(key='height'))])),\n",
              "                                                ('weight',\n",
              "                                                 Pipeline(steps=[('selector',\n",
              "                                                                  NumberSelector(key='weight'))])),\n",
              "                                                ('ap_hi',\n",
              "                                                 Pipe...\n",
              "                                                                  NumberSelector(key='cholesterol'))])),\n",
              "                                                ('gluc',\n",
              "                                                 Pipeline(steps=[('selector',\n",
              "                                                                  NumberSelector(key='gluc'))])),\n",
              "                                                ('smoke',\n",
              "                                                 Pipeline(steps=[('selector',\n",
              "                                                                  NumberSelector(key='smoke'))])),\n",
              "                                                ('alco',\n",
              "                                                 Pipeline(steps=[('selector',\n",
              "                                                                  NumberSelector(key='alco'))])),\n",
              "                                                ('active',\n",
              "                                                 Pipeline(steps=[('selector',\n",
              "                                                                  NumberSelector(key='active'))]))])),\n",
              "                ('classifier', LogisticRegression())])"
            ]
          },
          "metadata": {},
          "execution_count": 32
        }
      ]
    },
    {
      "cell_type": "markdown",
      "source": [
        "Посмотрим как выглядит пайплайн"
      ],
      "metadata": {
        "id": "II4bF3GiPmBj"
      }
    },
    {
      "cell_type": "code",
      "source": [
        "pipeline.steps"
      ],
      "metadata": {
        "colab": {
          "base_uri": "https://localhost:8080/"
        },
        "id": "um9gkLxGOvfX",
        "outputId": "068e1c22-ccf6-489b-d5f4-645df29455ff"
      },
      "execution_count": null,
      "outputs": [
        {
          "output_type": "execute_result",
          "data": {
            "text/plain": [
              "[('features', FeatureUnion(transformer_list=[('age',\n",
              "                                  Pipeline(steps=[('selector',\n",
              "                                                   NumberSelector(key='age'))])),\n",
              "                                 ('gender',\n",
              "                                  Pipeline(steps=[('selector',\n",
              "                                                   NumberSelector(key='gender'))])),\n",
              "                                 ('height',\n",
              "                                  Pipeline(steps=[('selector',\n",
              "                                                   NumberSelector(key='height'))])),\n",
              "                                 ('weight',\n",
              "                                  Pipeline(steps=[('selector',\n",
              "                                                   NumberSelector(key='weight'))])),\n",
              "                                 ('ap_hi',\n",
              "                                  Pipeline(steps=[('selector',\n",
              "                                                   Numb...\n",
              "                                 ('cholesterol',\n",
              "                                  Pipeline(steps=[('selector',\n",
              "                                                   NumberSelector(key='cholesterol'))])),\n",
              "                                 ('gluc',\n",
              "                                  Pipeline(steps=[('selector',\n",
              "                                                   NumberSelector(key='gluc'))])),\n",
              "                                 ('smoke',\n",
              "                                  Pipeline(steps=[('selector',\n",
              "                                                   NumberSelector(key='smoke'))])),\n",
              "                                 ('alco',\n",
              "                                  Pipeline(steps=[('selector',\n",
              "                                                   NumberSelector(key='alco'))])),\n",
              "                                 ('active',\n",
              "                                  Pipeline(steps=[('selector',\n",
              "                                                   NumberSelector(key='active'))]))])),\n",
              " ('classifier', LogisticRegression())]"
            ]
          },
          "metadata": {},
          "execution_count": 33
        }
      ]
    },
    {
      "cell_type": "markdown",
      "source": [
        "Сохраним модель на диск"
      ],
      "metadata": {
        "id": "6dTl_gVdPhKZ"
      }
    },
    {
      "cell_type": "code",
      "source": [
        "with open(\"cardio_pipeline_lr.dill\", \"wb\") as f:\n",
        "    dill.dump(pipeline, f)"
      ],
      "metadata": {
        "id": "ZW33EZbGPf4T"
      },
      "execution_count": null,
      "outputs": []
    }
  ]
}