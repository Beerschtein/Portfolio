{
  "cells": [
    {
      "cell_type": "markdown",
      "source": [
        "## Создадим сервер"
      ],
      "metadata": {
        "id": "JMzPZnYvrEzt"
      }
    },
    {
      "cell_type": "code",
      "execution_count": null,
      "metadata": {
        "id": "LIxUfhNuhJGl",
        "colab": {
          "base_uri": "https://localhost:8080/"
        },
        "outputId": "2ca8115f-6a37-414e-b6cb-99e82c7731cd"
      },
      "outputs": [
        {
          "output_type": "stream",
          "name": "stdout",
          "text": [
            "Requirement already satisfied: flask-ngrok in /usr/local/lib/python3.7/dist-packages (0.0.25)\n",
            "Requirement already satisfied: requests in /usr/local/lib/python3.7/dist-packages (from flask-ngrok) (2.23.0)\n",
            "Requirement already satisfied: Flask>=0.8 in /usr/local/lib/python3.7/dist-packages (from flask-ngrok) (1.1.4)\n",
            "Requirement already satisfied: itsdangerous<2.0,>=0.24 in /usr/local/lib/python3.7/dist-packages (from Flask>=0.8->flask-ngrok) (1.1.0)\n",
            "Requirement already satisfied: Jinja2<3.0,>=2.10.1 in /usr/local/lib/python3.7/dist-packages (from Flask>=0.8->flask-ngrok) (2.11.3)\n",
            "Requirement already satisfied: click<8.0,>=5.1 in /usr/local/lib/python3.7/dist-packages (from Flask>=0.8->flask-ngrok) (7.1.2)\n",
            "Requirement already satisfied: Werkzeug<2.0,>=0.15 in /usr/local/lib/python3.7/dist-packages (from Flask>=0.8->flask-ngrok) (1.0.1)\n",
            "Requirement already satisfied: MarkupSafe>=0.23 in /usr/local/lib/python3.7/dist-packages (from Jinja2<3.0,>=2.10.1->Flask>=0.8->flask-ngrok) (2.0.1)\n",
            "Requirement already satisfied: chardet<4,>=3.0.2 in /usr/local/lib/python3.7/dist-packages (from requests->flask-ngrok) (3.0.4)\n",
            "Requirement already satisfied: certifi>=2017.4.17 in /usr/local/lib/python3.7/dist-packages (from requests->flask-ngrok) (2021.10.8)\n",
            "Requirement already satisfied: idna<3,>=2.5 in /usr/local/lib/python3.7/dist-packages (from requests->flask-ngrok) (2.10)\n",
            "Requirement already satisfied: urllib3!=1.25.0,!=1.25.1,<1.26,>=1.21.1 in /usr/local/lib/python3.7/dist-packages (from requests->flask-ngrok) (1.24.3)\n"
          ]
        }
      ],
      "source": [
        "!pip install flask-ngrok"
      ]
    },
    {
      "cell_type": "code",
      "execution_count": null,
      "metadata": {
        "id": "pB36fJPMhPSR"
      },
      "outputs": [],
      "source": [
        "from flask_ngrok import run_with_ngrok\n",
        "from flask import Flask, request, jsonify\n",
        "import pandas as pd\n",
        "import dill"
      ]
    },
    {
      "cell_type": "code",
      "execution_count": null,
      "metadata": {
        "id": "p9hFhYH5hmXN",
        "colab": {
          "base_uri": "https://localhost:8080/"
        },
        "outputId": "3548ca36-1b1a-4a64-82e4-0673d1b3ee4e"
      },
      "outputs": [
        {
          "output_type": "stream",
          "name": "stdout",
          "text": [
            "--2022-04-18 13:37:16--  https://bin.equinox.io/c/4VmDzA7iaHb/ngrok-stable-linux-amd64.tgz\n",
            "Resolving bin.equinox.io (bin.equinox.io)... 54.161.241.46, 52.202.168.65, 18.205.222.128, ...\n",
            "Connecting to bin.equinox.io (bin.equinox.io)|54.161.241.46|:443... connected.\n",
            "HTTP request sent, awaiting response... 200 OK\n",
            "Length: 13770165 (13M) [application/octet-stream]\n",
            "Saving to: ‘ngrok-stable-linux-amd64.tgz.5’\n",
            "\n",
            "ngrok-stable-linux- 100%[===================>]  13.13M  7.70MB/s    in 1.7s    \n",
            "\n",
            "2022-04-18 13:37:18 (7.70 MB/s) - ‘ngrok-stable-linux-amd64.tgz.5’ saved [13770165/13770165]\n",
            "\n",
            "ngrok\n",
            "Authtoken saved to configuration file: /root/.ngrok2/ngrok.yml\n"
          ]
        }
      ],
      "source": [
        "!wget https://bin.equinox.io/c/4VmDzA7iaHb/ngrok-stable-linux-amd64.tgz\n",
        "!tar -xvf /content/ngrok-stable-linux-amd64.tgz\n",
        "!./ngrok authtoken 27LFNOH2h9iWspSJjtqQh9itwVo_7Fst6Ns6xk3QNMQ6UzxqV\n",
        "!./ngrok http 80"
      ]
    },
    {
      "cell_type": "markdown",
      "metadata": {
        "id": "iPdXPy-TojU3"
      },
      "source": [
        "Создаем сервис для обработки запросов к модели."
      ]
    },
    {
      "cell_type": "markdown",
      "metadata": {
        "id": "8KO5sTJ4owFM"
      },
      "source": [
        "Загрузим обученную модель:"
      ]
    },
    {
      "cell_type": "code",
      "execution_count": null,
      "metadata": {
        "id": "mVdV_fIio7JP"
      },
      "outputs": [],
      "source": [
        "with open('cardio_pipeline_lr.dill', 'rb') as in_strm:\n",
        "    model = dill.load(in_strm)"
      ]
    },
    {
      "cell_type": "markdown",
      "metadata": {
        "id": "omTO-SPfpiRn"
      },
      "source": [
        "Создаем обработчик запросов и запускаем Flask:"
      ]
    },
    {
      "cell_type": "code",
      "execution_count": null,
      "metadata": {
        "colab": {
          "base_uri": "https://localhost:8080/"
        },
        "id": "HRzd-UXfp_Ik",
        "outputId": "f2a2ec8b-2013-41a4-8bd4-d333eec82d69"
      },
      "outputs": [
        {
          "metadata": {
            "tags": null
          },
          "name": "stdout",
          "output_type": "stream",
          "text": [
            " * Serving Flask app \"__main__\" (lazy loading)\n",
            " * Environment: production\n",
            "\u001b[31m   WARNING: This is a development server. Do not use it in a production deployment.\u001b[0m\n",
            "\u001b[2m   Use a production WSGI server instead.\u001b[0m\n",
            " * Debug mode: off\n"
          ]
        },
        {
          "metadata": {
            "tags": null
          },
          "name": "stderr",
          "output_type": "stream",
          "text": [
            " * Running on http://127.0.0.1:5000/ (Press CTRL+C to quit)\n"
          ]
        },
        {
          "metadata": {
            "tags": null
          },
          "name": "stdout",
          "output_type": "stream",
          "text": [
            " * Running on http://a65f-34-75-114-17.ngrok.io\n",
            " * Traffic stats available on http://127.0.0.1:4040\n"
          ]
        }
      ],
      "source": [
        "# Обработчики и запуск Flask\n",
        "app = Flask(__name__)\n",
        "run_with_ngrok(app)  # Start ngrok when app is run\n",
        "\n",
        "\n",
        "@app.route(\"/\", methods=[\"GET\"])\n",
        "def general():\n",
        "    return \"Welcome to prediction process\"\n",
        "\n",
        "\n",
        "@app.route('/predict', methods=['POST'])\n",
        "def predict():\n",
        "    data = {\"success\": False}\n",
        "    \n",
        "    # ensure an image was properly uploaded to our endpoint\n",
        "    age, gender, height, weight, ap_hi, ap_lo, cholesterol, gluc, smoke, alco, active = \"\", \"\", \"\", \"\", \"\", \"\", \"\", \"\", \"\", \"\", \"\" \n",
        "    request_json = request.get_json()\n",
        "    \n",
        "    if request_json[\"age\"]:\n",
        "        age = request_json['age']\n",
        "    \n",
        "    if request_json[\"gender\"]:\n",
        "        gender = request_json['gender']\n",
        "                \n",
        "    if request_json[\"height\"]:\n",
        "        height = request_json['height']\n",
        "        \n",
        "    if request_json[\"weight\"]:\n",
        "        weight = request_json['weight']\n",
        "        \n",
        "    if request_json[\"ap_hi\"]:\n",
        "        ap_hi = request_json['ap_hi']\n",
        "        \n",
        "    if request_json[\"ap_lo\"]:\n",
        "        ap_lo = request_json['ap_lo']\n",
        "        \n",
        "    if request_json[\"cholesterol\"]:\n",
        "        cholesterol = request_json['cholesterol']\n",
        "        \n",
        "    if request_json[\"gluc\"]:\n",
        "        gluc = request_json['gluc']\n",
        "        \n",
        "    if request_json[\"smoke\"]:\n",
        "        smoke = request_json['smoke']\n",
        "        \n",
        "    if request_json[\"alco\"]:\n",
        "        alco = request_json['alco']\n",
        "        \n",
        "    if request_json[\"active\"]:\n",
        "        active = request_json['active']\n",
        "      \n",
        "    preds = model.predict_proba(pd.DataFrame({\"age\": [age],\n",
        "                                              \"gender\": [gender],\n",
        "                                              \"height\": [height],\n",
        "                                              \"weight\": [weight],\n",
        "                                              \"ap_hi\": [ap_hi],\n",
        "                                              \"ap_lo\": [ap_lo],\n",
        "                                              \"cholesterol\": [cholesterol],\n",
        "                                              \"gluc\": [gluc],\n",
        "                                              \"smoke\": [smoke],\n",
        "                                              \"alco\": [alco],\n",
        "                                              \"active\": [active]}))\n",
        "    data[\"predictions\"] = preds[:, 1][0]\n",
        "        # indicate that the request was a success\n",
        "    data[\"success\"] = True\n",
        "    print('OK')\n",
        "\n",
        "        # return the data dictionary as a JSON response\n",
        "    return jsonify(data)\n",
        "\n",
        "\n",
        "if __name__ == '__main__':\n",
        "    app.run()"
      ]
    }
  ],
  "metadata": {
    "colab": {
      "collapsed_sections": [],
      "provenance": []
    },
    "kernelspec": {
      "display_name": "Python 3",
      "name": "python3"
    },
    "language_info": {
      "name": "python"
    }
  },
  "nbformat": 4,
  "nbformat_minor": 0
}